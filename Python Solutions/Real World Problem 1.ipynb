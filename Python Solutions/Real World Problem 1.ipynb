{
 "cells": [
  {
   "cell_type": "markdown",
   "metadata": {},
   "source": [
    "# My Take On Resolving Broken CSV file reading issue using Python"
   ]
  },
  {
   "cell_type": "code",
   "execution_count": 1,
   "metadata": {
    "collapsed": true
   },
   "outputs": [],
   "source": [
    "import pandas as pd \n",
    "import re"
   ]
  },
  {
   "cell_type": "markdown",
   "metadata": {},
   "source": [
    "#### This is a sample demo file,  kindly open it in notepad to see the effects of extra commas in the csv file"
   ]
  },
  {
   "cell_type": "code",
   "execution_count": 5,
   "metadata": {
    "scrolled": true
   },
   "outputs": [
    {
     "data": {
      "text/html": [
       "<div>\n",
       "<style>\n",
       "    .dataframe thead tr:only-child th {\n",
       "        text-align: right;\n",
       "    }\n",
       "\n",
       "    .dataframe thead th {\n",
       "        text-align: left;\n",
       "    }\n",
       "\n",
       "    .dataframe tbody tr th {\n",
       "        vertical-align: top;\n",
       "    }\n",
       "</style>\n",
       "<table border=\"1\" class=\"dataframe\">\n",
       "  <thead>\n",
       "    <tr style=\"text-align: right;\">\n",
       "      <th></th>\n",
       "      <th></th>\n",
       "      <th>Name</th>\n",
       "      <th>Age</th>\n",
       "      <th>Address</th>\n",
       "      <th>Phone Number</th>\n",
       "      <th>City</th>\n",
       "      <th>State</th>\n",
       "    </tr>\n",
       "  </thead>\n",
       "  <tbody>\n",
       "    <tr>\n",
       "      <th>ABC</th>\n",
       "      <th>20</th>\n",
       "      <td>216</td>\n",
       "      <td>shark tank</td>\n",
       "      <td>03204</td>\n",
       "      <td>12345678</td>\n",
       "      <td>Omaha</td>\n",
       "      <td>MA</td>\n",
       "    </tr>\n",
       "    <tr>\n",
       "      <th rowspan=\"4\" valign=\"top\">ZXY</th>\n",
       "      <th>34</th>\n",
       "      <td>arlington st</td>\n",
       "      <td>12345678</td>\n",
       "      <td>Boston</td>\n",
       "      <td>OH</td>\n",
       "      <td>NaN</td>\n",
       "      <td>NaN</td>\n",
       "    </tr>\n",
       "    <tr>\n",
       "      <th>34</th>\n",
       "      <td>arlington st</td>\n",
       "      <td>12345678</td>\n",
       "      <td>Boston</td>\n",
       "      <td>OH</td>\n",
       "      <td>NaN</td>\n",
       "      <td>NaN</td>\n",
       "    </tr>\n",
       "    <tr>\n",
       "      <th>34</th>\n",
       "      <td>216</td>\n",
       "      <td>shark tank</td>\n",
       "      <td>03204</td>\n",
       "      <td>12345678</td>\n",
       "      <td>Boston</td>\n",
       "      <td>OH</td>\n",
       "    </tr>\n",
       "    <tr>\n",
       "      <th>34</th>\n",
       "      <td>arlington st</td>\n",
       "      <td>12345678</td>\n",
       "      <td>Boston</td>\n",
       "      <td>OH</td>\n",
       "      <td>NaN</td>\n",
       "      <td>NaN</td>\n",
       "    </tr>\n",
       "  </tbody>\n",
       "</table>\n",
       "</div>"
      ],
      "text/plain": [
       "                Name         Age Address Phone Number    City State\n",
       "ABC 20           216  shark tank   03204     12345678   Omaha    MA\n",
       "ZXY 34  arlington st    12345678  Boston           OH     NaN   NaN\n",
       "    34  arlington st    12345678  Boston           OH     NaN   NaN\n",
       "    34           216  shark tank   03204     12345678  Boston    OH\n",
       "    34  arlington st    12345678  Boston           OH     NaN   NaN"
      ]
     },
     "execution_count": 5,
     "metadata": {},
     "output_type": "execute_result"
    }
   ],
   "source": [
    "df = pd.read_csv('demo.csv')\n",
    "df.head()"
   ]
  },
  {
   "cell_type": "markdown",
   "metadata": {},
   "source": [
    "##  See how  the values shift in columns as each extra comma is encountered\n",
    "\n",
    "##  The goal is to make sure we can extract  necessary columns from the dataset"
   ]
  },
  {
   "cell_type": "code",
   "execution_count": 7,
   "metadata": {},
   "outputs": [],
   "source": [
    "df = open('demo.csv','r').read() #file path required if not in same directory\n",
    "i_column=2    #index of desired column, counted from back\n",
    "lines=re.split('\\n',df)[:-1] #eventually remove last (empty) line\n",
    "list_city=[]\n",
    "for line in lines:\n",
    "  list_city.append(re.split(',',line)[-i_column])    #the minus in [i_column] affects indexing beginning at the end\n",
    "print(list_city)"
   ]
  },
  {
   "cell_type": "code",
   "execution_count": 15,
   "metadata": {
    "collapsed": true
   },
   "outputs": [],
   "source": []
  },
  {
   "cell_type": "code",
   "execution_count": 8,
   "metadata": {
    "collapsed": true
   },
   "outputs": [],
   "source": []
  },
  {
   "cell_type": "code",
   "execution_count": 13,
   "metadata": {},
   "outputs": [
    {
     "name": "stdout",
     "output_type": "stream",
     "text": [
      "['City', 'Omaha', 'Boston', 'Boston', 'Boston', 'Boston', 'Boston', 'Boston', 'Boston', 'Boston', 'Boston']\n"
     ]
    }
   ],
   "source": []
  },
  {
   "cell_type": "code",
   "execution_count": 14,
   "metadata": {},
   "outputs": [
    {
     "name": "stdout",
     "output_type": "stream",
     "text": [
      "['Age', '20', '34', '34', '34', '34', '34', '34', '34', '34', '34']\n"
     ]
    }
   ],
   "source": [
    "i_column=1      #index of desired column, counted from back\n",
    "lines=re.split('\\n',df)[:-1] #eventually remove last (empty) line\n",
    "list_troubletype=[]\n",
    "for line in lines:\n",
    "  list_troubletype.append(re.split(',',line)[i_column])    #the minus in [i_column] affects indexing beginning at the end\n",
    "print(list_troubletype)"
   ]
  },
  {
   "cell_type": "code",
   "execution_count": null,
   "metadata": {
    "collapsed": true
   },
   "outputs": [],
   "source": []
  }
 ],
 "metadata": {
  "kernelspec": {
   "display_name": "Python 3",
   "language": "python",
   "name": "python3"
  },
  "language_info": {
   "codemirror_mode": {
    "name": "ipython",
    "version": 3
   },
   "file_extension": ".py",
   "mimetype": "text/x-python",
   "name": "python",
   "nbconvert_exporter": "python",
   "pygments_lexer": "ipython3",
   "version": "3.6.1"
  }
 },
 "nbformat": 4,
 "nbformat_minor": 2
}
